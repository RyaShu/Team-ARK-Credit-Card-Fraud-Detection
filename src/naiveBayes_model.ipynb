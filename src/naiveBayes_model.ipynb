{
 "cells": [
  {
   "cell_type": "code",
   "execution_count": 1,
   "metadata": {
    "id": "Mid38-hRTjBh"
   },
   "outputs": [],
   "source": [
    "# General Data Processing and Visualization Tools\n",
    "import pandas as pd\n",
    "import numpy as np\n",
    "import matplotlib.pyplot as plt\n",
    "import seaborn as sns\n",
    "from sklearn.metrics import classification_report"
   ]
  },
  {
   "cell_type": "code",
   "execution_count": 2,
   "metadata": {
    "id": "OLSR0WzzWHoT"
   },
   "outputs": [],
   "source": [
    "# Specific Models for Testing\n",
    "from sklearn.naive_bayes import ComplementNB"
   ]
  },
  {
   "cell_type": "code",
   "execution_count": 3,
   "metadata": {
    "colab": {
     "base_uri": "https://localhost:8080/"
    },
    "id": "cE50riXXQcO9",
    "outputId": "e7bc5edd-db29-4bc6-b640-1f43cd287cb5"
   },
   "outputs": [],
   "source": [
    "# Visualization Tools\n",
    "from yellowbrick.classifier import ClassificationReport\n",
    "from sklearn.metrics import confusion_matrix\n",
    "from sklearn.metrics import ConfusionMatrixDisplay\n",
    "\n",
    "def make_vis(model_clf,train,val):\n",
    "  viz = ClassificationReport(model_clf, classes=['0', '1'], support = True)\n",
    "  viz.fit(train, np.ravel(label_train))\n",
    "  viz.score(val, np.ravel(label_val))\n",
    "  viz.poof()\n",
    "\n",
    "def make_cmatrix(predictions,clf_name):\n",
    "  cm = confusion_matrix(label_val, predictions)\n",
    "  cm_display = ConfusionMatrixDisplay(cm,display_labels=['Normal','Fraud'])\n",
    "  cm_display.plot(values_format='d')\n",
    "  plt.title(\"Confusion Matrix: \"+clf_name)\n",
    "  plt.grid(False)\n",
    "  plt.show()"
   ]
  },
  {
   "cell_type": "code",
   "execution_count": null,
   "metadata": {
    "id": "UO6WLE9UTqbG"
   },
   "outputs": [],
   "source": [
    "data_raw = pd.read_csv('../data/creditcard.csv', sep=\",\")"
   ]
  },
  {
   "cell_type": "code",
   "execution_count": null,
   "metadata": {
    "id": "uZfyGBc3TwfA"
   },
   "outputs": [],
   "source": [
    "data_only = data_raw.drop([\"Class\"],axis=1)\n",
    "labels_only = data_raw.take([-1],axis=1)"
   ]
  },
  {
   "cell_type": "code",
   "execution_count": null,
   "metadata": {
    "id": "dF_wUlbeW2Lw"
   },
   "outputs": [],
   "source": [
    "from sklearn.model_selection import train_test_split\n",
    "train_raw, val_raw, label_train, label_val = train_test_split(data_only, labels_only,\\\n",
    "                                                                stratify=labels_only,\\\n",
    "                                                                test_size = 0.2,\\\n",
    "                                                               random_state = 255)"
   ]
  },
  {
   "cell_type": "code",
   "execution_count": null,
   "metadata": {},
   "outputs": [],
   "source": [
    "# NB requires all positives so will minmax scale\n",
    "from sklearn.preprocessing import MinMaxScaler\n",
    "minmaxScaler = MinMaxScaler()\n",
    "minmax_train = minmaxScaler.fit_transform(train_raw)\n",
    "minmax_val = minmaxScaler.transform(val_raw)"
   ]
  },
  {
   "cell_type": "markdown",
   "metadata": {
    "id": "F6wWgVlriI7l"
   },
   "source": [
    "## NB"
   ]
  },
  {
   "cell_type": "code",
   "execution_count": null,
   "metadata": {
    "colab": {
     "base_uri": "https://localhost:8080/"
    },
    "id": "I5WL_pfZehNy",
    "outputId": "8e64d0b3-2bcc-4750-8041-6dbb8ecda868"
   },
   "outputs": [],
   "source": [
    "nb_clf = ComplementNB().fit(minmax_train,np.ravel(label_train))\n",
    "\n",
    "prediction_nb = nb_clf.predict(minmax_val)\n",
    "print(classification_report(np.ravel(label_val), prediction_nb))"
   ]
  },
  {
   "cell_type": "code",
   "execution_count": null,
   "metadata": {
    "colab": {
     "base_uri": "https://localhost:8080/",
     "height": 760
    },
    "id": "aScyYkuuQ4uO",
    "outputId": "54d07d36-87de-41d6-fadc-940042e067d2"
   },
   "outputs": [],
   "source": [
    "make_vis(nb_clf,minmax_train,minmax_val)\n",
    "make_cmatrix(prediction_nb,\"Naive Bayes\")"
   ]
  },
  {
   "cell_type": "markdown",
   "metadata": {
    "id": "mSdcrfMPaue_"
   },
   "source": [
    "# Results"
   ]
  },
  {
   "cell_type": "markdown",
   "metadata": {
    "id": "5uA65eZvayyz"
   },
   "source": [
    "Results about equal to Trees, however can only be done on min-max scaled data"
   ]
  },
  {
   "cell_type": "code",
   "execution_count": null,
   "metadata": {
    "id": "dtnrBxX6axcD"
   },
   "outputs": [],
   "source": []
  }
 ],
 "metadata": {
  "colab": {
   "name": " 255Project-Trees.ipynb",
   "provenance": [],
   "toc_visible": true
  },
  "kernelspec": {
   "display_name": "Python 3",
   "language": "python",
   "name": "python3"
  },
  "language_info": {
   "codemirror_mode": {
    "name": "ipython",
    "version": 3
   },
   "file_extension": ".py",
   "mimetype": "text/x-python",
   "name": "python",
   "nbconvert_exporter": "python",
   "pygments_lexer": "ipython3",
   "version": "3.7.3"
  }
 },
 "nbformat": 4,
 "nbformat_minor": 1
}
