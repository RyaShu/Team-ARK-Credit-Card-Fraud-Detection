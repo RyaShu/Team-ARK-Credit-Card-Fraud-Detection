{
 "cells": [
  {
   "cell_type": "markdown",
   "metadata": {},
   "source": [
    "# Importing Dataset & Libraries"
   ]
  },
  {
   "cell_type": "code",
   "execution_count": 1,
   "metadata": {
    "scrolled": true
   },
   "outputs": [
    {
     "data": {
      "text/html": [
       "<div>\n",
       "<style scoped>\n",
       "    .dataframe tbody tr th:only-of-type {\n",
       "        vertical-align: middle;\n",
       "    }\n",
       "\n",
       "    .dataframe tbody tr th {\n",
       "        vertical-align: top;\n",
       "    }\n",
       "\n",
       "    .dataframe thead th {\n",
       "        text-align: right;\n",
       "    }\n",
       "</style>\n",
       "<table border=\"1\" class=\"dataframe\">\n",
       "  <thead>\n",
       "    <tr style=\"text-align: right;\">\n",
       "      <th></th>\n",
       "      <th>Time</th>\n",
       "      <th>V1</th>\n",
       "      <th>V2</th>\n",
       "      <th>V3</th>\n",
       "      <th>V4</th>\n",
       "      <th>V5</th>\n",
       "      <th>V6</th>\n",
       "      <th>V7</th>\n",
       "      <th>V8</th>\n",
       "      <th>V9</th>\n",
       "      <th>...</th>\n",
       "      <th>V21</th>\n",
       "      <th>V22</th>\n",
       "      <th>V23</th>\n",
       "      <th>V24</th>\n",
       "      <th>V25</th>\n",
       "      <th>V26</th>\n",
       "      <th>V27</th>\n",
       "      <th>V28</th>\n",
       "      <th>Amount</th>\n",
       "      <th>Class</th>\n",
       "    </tr>\n",
       "  </thead>\n",
       "  <tbody>\n",
       "    <tr>\n",
       "      <th>0</th>\n",
       "      <td>0.0</td>\n",
       "      <td>-1.359807</td>\n",
       "      <td>-0.072781</td>\n",
       "      <td>2.536347</td>\n",
       "      <td>1.378155</td>\n",
       "      <td>-0.338321</td>\n",
       "      <td>0.462388</td>\n",
       "      <td>0.239599</td>\n",
       "      <td>0.098698</td>\n",
       "      <td>0.363787</td>\n",
       "      <td>...</td>\n",
       "      <td>-0.018307</td>\n",
       "      <td>0.277838</td>\n",
       "      <td>-0.110474</td>\n",
       "      <td>0.066928</td>\n",
       "      <td>0.128539</td>\n",
       "      <td>-0.189115</td>\n",
       "      <td>0.133558</td>\n",
       "      <td>-0.021053</td>\n",
       "      <td>149.62</td>\n",
       "      <td>0</td>\n",
       "    </tr>\n",
       "    <tr>\n",
       "      <th>1</th>\n",
       "      <td>0.0</td>\n",
       "      <td>1.191857</td>\n",
       "      <td>0.266151</td>\n",
       "      <td>0.166480</td>\n",
       "      <td>0.448154</td>\n",
       "      <td>0.060018</td>\n",
       "      <td>-0.082361</td>\n",
       "      <td>-0.078803</td>\n",
       "      <td>0.085102</td>\n",
       "      <td>-0.255425</td>\n",
       "      <td>...</td>\n",
       "      <td>-0.225775</td>\n",
       "      <td>-0.638672</td>\n",
       "      <td>0.101288</td>\n",
       "      <td>-0.339846</td>\n",
       "      <td>0.167170</td>\n",
       "      <td>0.125895</td>\n",
       "      <td>-0.008983</td>\n",
       "      <td>0.014724</td>\n",
       "      <td>2.69</td>\n",
       "      <td>0</td>\n",
       "    </tr>\n",
       "    <tr>\n",
       "      <th>2</th>\n",
       "      <td>1.0</td>\n",
       "      <td>-1.358354</td>\n",
       "      <td>-1.340163</td>\n",
       "      <td>1.773209</td>\n",
       "      <td>0.379780</td>\n",
       "      <td>-0.503198</td>\n",
       "      <td>1.800499</td>\n",
       "      <td>0.791461</td>\n",
       "      <td>0.247676</td>\n",
       "      <td>-1.514654</td>\n",
       "      <td>...</td>\n",
       "      <td>0.247998</td>\n",
       "      <td>0.771679</td>\n",
       "      <td>0.909412</td>\n",
       "      <td>-0.689281</td>\n",
       "      <td>-0.327642</td>\n",
       "      <td>-0.139097</td>\n",
       "      <td>-0.055353</td>\n",
       "      <td>-0.059752</td>\n",
       "      <td>378.66</td>\n",
       "      <td>0</td>\n",
       "    </tr>\n",
       "    <tr>\n",
       "      <th>3</th>\n",
       "      <td>1.0</td>\n",
       "      <td>-0.966272</td>\n",
       "      <td>-0.185226</td>\n",
       "      <td>1.792993</td>\n",
       "      <td>-0.863291</td>\n",
       "      <td>-0.010309</td>\n",
       "      <td>1.247203</td>\n",
       "      <td>0.237609</td>\n",
       "      <td>0.377436</td>\n",
       "      <td>-1.387024</td>\n",
       "      <td>...</td>\n",
       "      <td>-0.108300</td>\n",
       "      <td>0.005274</td>\n",
       "      <td>-0.190321</td>\n",
       "      <td>-1.175575</td>\n",
       "      <td>0.647376</td>\n",
       "      <td>-0.221929</td>\n",
       "      <td>0.062723</td>\n",
       "      <td>0.061458</td>\n",
       "      <td>123.50</td>\n",
       "      <td>0</td>\n",
       "    </tr>\n",
       "    <tr>\n",
       "      <th>4</th>\n",
       "      <td>2.0</td>\n",
       "      <td>-1.158233</td>\n",
       "      <td>0.877737</td>\n",
       "      <td>1.548718</td>\n",
       "      <td>0.403034</td>\n",
       "      <td>-0.407193</td>\n",
       "      <td>0.095921</td>\n",
       "      <td>0.592941</td>\n",
       "      <td>-0.270533</td>\n",
       "      <td>0.817739</td>\n",
       "      <td>...</td>\n",
       "      <td>-0.009431</td>\n",
       "      <td>0.798278</td>\n",
       "      <td>-0.137458</td>\n",
       "      <td>0.141267</td>\n",
       "      <td>-0.206010</td>\n",
       "      <td>0.502292</td>\n",
       "      <td>0.219422</td>\n",
       "      <td>0.215153</td>\n",
       "      <td>69.99</td>\n",
       "      <td>0</td>\n",
       "    </tr>\n",
       "  </tbody>\n",
       "</table>\n",
       "<p>5 rows × 31 columns</p>\n",
       "</div>"
      ],
      "text/plain": [
       "   Time        V1        V2        V3        V4        V5        V6        V7  \\\n",
       "0   0.0 -1.359807 -0.072781  2.536347  1.378155 -0.338321  0.462388  0.239599   \n",
       "1   0.0  1.191857  0.266151  0.166480  0.448154  0.060018 -0.082361 -0.078803   \n",
       "2   1.0 -1.358354 -1.340163  1.773209  0.379780 -0.503198  1.800499  0.791461   \n",
       "3   1.0 -0.966272 -0.185226  1.792993 -0.863291 -0.010309  1.247203  0.237609   \n",
       "4   2.0 -1.158233  0.877737  1.548718  0.403034 -0.407193  0.095921  0.592941   \n",
       "\n",
       "         V8        V9  ...       V21       V22       V23       V24       V25  \\\n",
       "0  0.098698  0.363787  ... -0.018307  0.277838 -0.110474  0.066928  0.128539   \n",
       "1  0.085102 -0.255425  ... -0.225775 -0.638672  0.101288 -0.339846  0.167170   \n",
       "2  0.247676 -1.514654  ...  0.247998  0.771679  0.909412 -0.689281 -0.327642   \n",
       "3  0.377436 -1.387024  ... -0.108300  0.005274 -0.190321 -1.175575  0.647376   \n",
       "4 -0.270533  0.817739  ... -0.009431  0.798278 -0.137458  0.141267 -0.206010   \n",
       "\n",
       "        V26       V27       V28  Amount  Class  \n",
       "0 -0.189115  0.133558 -0.021053  149.62      0  \n",
       "1  0.125895 -0.008983  0.014724    2.69      0  \n",
       "2 -0.139097 -0.055353 -0.059752  378.66      0  \n",
       "3 -0.221929  0.062723  0.061458  123.50      0  \n",
       "4  0.502292  0.219422  0.215153   69.99      0  \n",
       "\n",
       "[5 rows x 31 columns]"
      ]
     },
     "execution_count": 1,
     "metadata": {},
     "output_type": "execute_result"
    }
   ],
   "source": [
    "# Need to have installed to run: pandas, numpy, sklearn, imblearn, yellowbrick, matplotlib\n",
    "\n",
    "import pandas as pd\n",
    "import numpy as np\n",
    "\n",
    "from sklearn.model_selection import train_test_split\n",
    "from sklearn.ensemble import RandomForestClassifier\n",
    "from sklearn.metrics import classification_report, confusion_matrix, accuracy_score, f1_score, ConfusionMatrixDisplay\n",
    "from sklearn.model_selection import train_test_split\n",
    "from imblearn.combine import SMOTEENN \n",
    "\n",
    "from yellowbrick.classifier import ClassificationReport\n",
    "from sklearn.preprocessing import StandardScaler\n",
    "\n",
    "import matplotlib.pyplot as plt\n",
    "%matplotlib inline\n",
    "\n",
    "df = pd.read_csv(\"creditcard.csv\")\n",
    "df.head()\n"
   ]
  },
  {
   "cell_type": "markdown",
   "metadata": {},
   "source": [
    "# Setting up test/train datasets"
   ]
  },
  {
   "cell_type": "code",
   "execution_count": 37,
   "metadata": {
    "scrolled": true
   },
   "outputs": [
    {
     "name": "stdout",
     "output_type": "stream",
     "text": [
      "Train datax shape : (227845, 30)\n",
      "Train datay shape : (227845,)\n",
      "Test data shape : (56962, 30)\n",
      "Test data shape : (56962,)\n",
      "Size for resampled dataset by class Counter({1: 218768, 0: 210153})\n",
      "Size for original dataset by class Counter({0: 227445, 1: 400})\n"
     ]
    }
   ],
   "source": [
    "# test and train split, drop the first column, 80/20 split\n",
    "X_train, X_test, y_train, y_test = train_test_split(df.drop('Class',axis=1), df['Class'], test_size=0.20)\n",
    "\n",
    "print(\"Train datax shape : \" + str(X_train.shape))\n",
    "print(\"Train datay shape : \" + str(y_train.shape))\n",
    "print(\"Test data shape : \" + str(X_test.shape))\n",
    "print(\"Test data shape : \" + str(y_test.shape))\n",
    "\n",
    "from collections import Counter\n",
    "\n",
    "# Perform oversampling with SMOTE, along with cleaning with ENN\n",
    "sme = SMOTEENN()\n",
    "X_train_SME, y_train_SME = sme.fit_sample(X_train, y_train)\n",
    "print('Size for resampled dataset by class %s' % Counter(y_train_SME))\n",
    "print('Size for original dataset by class %s' % Counter(y_train))"
   ]
  },
  {
   "cell_type": "markdown",
   "metadata": {},
   "source": [
    "# RFC (with and without sampling)"
   ]
  },
  {
   "cell_type": "code",
   "execution_count": 38,
   "metadata": {},
   "outputs": [],
   "source": [
    "# Random Forest Classifier with sampling\n",
    "rfc1 = RandomForestClassifier(random_state=42)\n",
    "rfc1 = rfc1.fit(X_train_SME,y_train_SME)\n",
    "\n",
    "y_pred_SME = rfc1.predict(X_test)\n"
   ]
  },
  {
   "cell_type": "code",
   "execution_count": 39,
   "metadata": {},
   "outputs": [],
   "source": [
    "# Random Forest Classifier without sampling\n",
    "rfc = RandomForestClassifier(random_state=41)\n",
    "rfc = rfc.fit(X_train,y_train)\n",
    "\n",
    "y_pred_SME_1 = rfc.predict(X_test)"
   ]
  },
  {
   "cell_type": "code",
   "execution_count": 40,
   "metadata": {},
   "outputs": [
    {
     "name": "stdout",
     "output_type": "stream",
     "text": [
      "0.9995435553526912\n",
      "0.9292335303246918\n",
      "              precision    recall  f1-score   support\n",
      "\n",
      "           0       1.00      1.00      1.00     56870\n",
      "           1       0.86      0.86      0.86        92\n",
      "\n",
      "    accuracy                           1.00     56962\n",
      "   macro avg       0.93      0.93      0.93     56962\n",
      "weighted avg       1.00      1.00      1.00     56962\n",
      "\n",
      "              precision    recall  f1-score   support\n",
      "\n",
      "           0       1.00      1.00      1.00     56870\n",
      "           1       0.95      0.82      0.88        92\n",
      "\n",
      "    accuracy                           1.00     56962\n",
      "   macro avg       0.97      0.91      0.94     56962\n",
      "weighted avg       1.00      1.00      1.00     56962\n",
      "\n"
     ]
    }
   ],
   "source": [
    "print((accuracy_score(y_test,y_pred_SME)))\n",
    "print(f1_score(y_test,y_pred_SME, average='macro'))\n",
    "print(classification_report(y_test, y_pred_SME))\n",
    "print(classification_report(y_test, y_pred_SME_1))"
   ]
  },
  {
   "cell_type": "code",
   "execution_count": 41,
   "metadata": {},
   "outputs": [],
   "source": [
    "from yellowbrick.classifier import ClassificationReport\n",
    "from sklearn.metrics import ConfusionMatrixDisplay\n",
    "\n",
    "def make_vis(model_clf,train,val):\n",
    "    viz = ClassificationReport(model_clf, classes=['0', '1'], support = True)\n",
    "    viz.fit(train, np.ravel(y_train))\n",
    "    viz.score(val, np.ravel(y_test))\n",
    "    viz.poof()\n",
    "    \n",
    "def make_cmatrix(predictions,clf_name):\n",
    "    cm = confusion_matrix(y_test, predictions)\n",
    "    cm_display = ConfusionMatrixDisplay(cm,display_labels=['Normal','Fraud'])\n",
    "    cm_display.plot(values_format='d')\n",
    "    plt.title(\"Confusion Matrix: \"+clf_name)\n",
    "    plt.grid(False)\n",
    "    plt.show()\n",
    "\n",
    "    \n",
    "\n",
    "    "
   ]
  },
  {
   "cell_type": "code",
   "execution_count": 42,
   "metadata": {},
   "outputs": [
    {
     "name": "stderr",
     "output_type": "stream",
     "text": [
      "/usr/local/lib/python3.8/site-packages/sklearn/base.py:209: FutureWarning: From version 0.24, get_params will raise an AttributeError if a parameter cannot be retrieved as an instance attribute. Previously it would return None.\n",
      "  warnings.warn('From version 0.24, get_params will raise an '\n"
     ]
    },
    {
     "data": {
      "image/png": "[encoded data removed]",
      "text/plain": [
       "<Figure size 432x288 with 2 Axes>"
      ]
     },
     "metadata": {
      "needs_background": "light"
     },
     "output_type": "display_data"
    },
    {
     "data": {
      "image/png": "[encoded data removed]",
      "text/plain": [
       "<Figure size 432x288 with 2 Axes>"
      ]
     },
     "metadata": {
      "needs_background": "light"
     },
     "output_type": "display_data"
    }
   ],
   "source": [
    "make_vis(rfc1,X_train_SME , X_test)\n",
    "make_cmatrix(y_pred_SME,\"RFC with SME\")"
   ]
  },
  {
   "cell_type": "code",
   "execution_count": 43,
   "metadata": {},
   "outputs": [
    {
     "name": "stderr",
     "output_type": "stream",
     "text": [
      "/usr/local/lib/python3.8/site-packages/sklearn/base.py:209: FutureWarning: From version 0.24, get_params will raise an AttributeError if a parameter cannot be retrieved as an instance attribute. Previously it would return None.\n",
      "  warnings.warn('From version 0.24, get_params will raise an '\n"
     ]
    },
    {
     "data": {
      "image/png": "[encoded data removed]",
      "text/plain": [
       "<Figure size 432x288 with 2 Axes>"
      ]
     },
     "metadata": {
      "needs_background": "light"
     },
     "output_type": "display_data"
    },
    {
     "data": {
      "image/png": "[encoded data removed]",
      "text/plain": [
       "<Figure size 432x288 with 2 Axes>"
      ]
     },
     "metadata": {
      "needs_background": "light"
     },
     "output_type": "display_data"
    }
   ],
   "source": [
    "make_vis(rfc,X_train , X_test)\n",
    "make_cmatrix(y_pred_SME_1,\"RFC without SME\")"
   ]
  },
  {
   "cell_type": "markdown",
   "metadata": {},
   "source": [
    "# KNN"
   ]
  },
  {
   "cell_type": "code",
   "execution_count": 44,
   "metadata": {},
   "outputs": [],
   "source": [
    "from sklearn.preprocessing import StandardScaler\n",
    "\n",
    "# Standard scale the data for KNN Neighbors\n",
    "scaler = StandardScaler()\n",
    "scaler.fit(X_train)\n",
    "\n",
    "X_train_KNC = scaler.transform(X_train)\n",
    "X_test_KNC = scaler.transform(X_test)"
   ]
  },
  {
   "cell_type": "code",
   "execution_count": 45,
   "metadata": {},
   "outputs": [],
   "source": [
    "from sklearn.neighbors import KNeighborsClassifier\n",
    "\n",
    "classifier = KNeighborsClassifier(n_neighbors=3)\n",
    "classifier = classifier.fit(X_train_KNC, y_train)"
   ]
  },
  {
   "cell_type": "code",
   "execution_count": 46,
   "metadata": {},
   "outputs": [],
   "source": [
    "y_pred = classifier.predict(X_test_KNC)"
   ]
  },
  {
   "cell_type": "code",
   "execution_count": 47,
   "metadata": {
    "scrolled": true
   },
   "outputs": [
    {
     "name": "stdout",
     "output_type": "stream",
     "text": [
      "0.9276357755960526\n",
      "0.9995611109160493\n",
      "              precision    recall  f1-score   support\n",
      "\n",
      "           0       1.00      1.00      1.00     56870\n",
      "           1       0.91      0.80      0.86        92\n",
      "\n",
      "    accuracy                           1.00     56962\n",
      "   macro avg       0.96      0.90      0.93     56962\n",
      "weighted avg       1.00      1.00      1.00     56962\n",
      "\n"
     ]
    }
   ],
   "source": [
    "print(f1_score(y_test,y_pred, average='macro'))\n",
    "print(accuracy_score(y_test,y_pred))\n",
    "print(classification_report(y_test, y_pred))"
   ]
  },
  {
   "cell_type": "code",
   "execution_count": 48,
   "metadata": {},
   "outputs": [
    {
     "data": {
      "image/png": "[encoded data removed]",
      "text/plain": [
       "<Figure size 432x288 with 2 Axes>"
      ]
     },
     "metadata": {
      "needs_background": "light"
     },
     "output_type": "display_data"
    }
   ],
   "source": [
    "make_cmatrix(y_pred, \"KN Classifier, K = 3\")"
   ]
  },
  {
   "cell_type": "code",
   "execution_count": 49,
   "metadata": {},
   "outputs": [
    {
     "data": {
      "text/plain": [
       "0.9385041859701868"
      ]
     },
     "execution_count": 49,
     "metadata": {},
     "output_type": "execute_result"
    }
   ],
   "source": [
    "\n",
    "# X_train_scaled = scaler.fit_transform(X_train)\n",
    "# X_test_scaled = scaler.transform(X_test)\n",
    "# y_train = np.array(y_train)\n",
    "\n",
    "\n",
    "rfc = RandomForestClassifier()\n",
    "rfc = rfc.fit(X_train_KNC, y_train)\n",
    "\n",
    "y = rfc.predict(X_test_KNC)\n",
    "f1_score(y_test,y, average='macro')\n"
   ]
  },
  {
   "cell_type": "code",
   "execution_count": 50,
   "metadata": {},
   "outputs": [
    {
     "name": "stdout",
     "output_type": "stream",
     "text": [
      "0.9385041859701868\n",
      "0.9996313331694814\n",
      "              precision    recall  f1-score   support\n",
      "\n",
      "           0       1.00      1.00      1.00     56870\n",
      "           1       0.95      0.82      0.88        92\n",
      "\n",
      "    accuracy                           1.00     56962\n",
      "   macro avg       0.97      0.91      0.94     56962\n",
      "weighted avg       1.00      1.00      1.00     56962\n",
      "\n"
     ]
    }
   ],
   "source": [
    "print(f1_score(y_test,y, average='macro'))\n",
    "print(accuracy_score(y_test,y))\n",
    "print(classification_report(y_test, y))"
   ]
  },
  {
   "cell_type": "code",
   "execution_count": 51,
   "metadata": {},
   "outputs": [
    {
     "data": {
      "image/png": "[encoded data removed]",
      "text/plain": [
       "<Figure size 432x288 with 2 Axes>"
      ]
     },
     "metadata": {
      "needs_background": "light"
     },
     "output_type": "display_data"
    }
   ],
   "source": [
    "make_cmatrix(y, \"RFC, Standarized Data\")"
   ]
  },
  {
   "cell_type": "code",
   "execution_count": null,
   "metadata": {},
   "outputs": [],
   "source": [
    "#PCA was applied, but did not perform well. Possibly due to dataset having been \n",
    "\n",
    "# from sklearn.decomposition import PCA\n",
    "\n",
    "# pca = PCA(n_components=24)\n",
    "# pca.fit(X_train_scaled)\n",
    "# X_train_scaled_pca = pca.transform(X_train_scaled)\n",
    "# X_test_scaled_pca = pca.transform(X_test_scaled)\n",
    "\n",
    "# rfc = RandomForestClassifier()\n",
    "# rfc = rfc.fit(X_train_scaled_pca, y_train)\n",
    "# #display(rfc.score(X_train_scaled, y_train))\n",
    "\n",
    "# y = rfc.predict(X_test_scaled_pca)\n",
    "# f1_score(y_test,y, average='macro')\n"
   ]
  },
  {
   "cell_type": "code",
   "execution_count": null,
   "metadata": {},
   "outputs": [],
   "source": []
  },
  {
   "cell_type": "code",
   "execution_count": null,
   "metadata": {},
   "outputs": [],
   "source": [
    "\n"
   ]
  },
  {
   "cell_type": "code",
   "execution_count": null,
   "metadata": {},
   "outputs": [],
   "source": []
  },
  {
   "cell_type": "code",
   "execution_count": null,
   "metadata": {},
   "outputs": [],
   "source": [
    "#k = 1\n",
    "# 0.9072535409634808\n",
    "# 0.999385555282469\n",
    "#               precision    recall  f1-score   support\n",
    "\n",
    "#            0       1.00      1.00      1.00     56867\n",
    "#            1       0.82      0.81      0.81        95\n",
    "\n",
    "#     accuracy                           1.00     56962\n",
    "#    macro avg       0.91      0.91      0.91     56962\n",
    "# weighted avg       1.00      1.00      1.00     56962\n",
    "\n",
    "# 2\n",
    "# 0.9197620223900125\n",
    "# 0.9994908886626171\n",
    "#               precision    recall  f1-score   support\n",
    "\n",
    "#            0       1.00      1.00      1.00     56859\n",
    "#            1       0.97      0.74      0.84       103\n",
    "\n",
    "#     accuracy                           1.00     56962\n",
    "#    macro avg       0.99      0.87      0.92     56962\n",
    "# weighted avg       1.00      1.00      1.00     56962\n",
    "\n",
    "# k = 3\n",
    "# 0.9220991388068331\n",
    "# 0.9995084442259752\n",
    "#               precision    recall  f1-score   support\n",
    "\n",
    "#            0       1.00      1.00      1.00     56867\n",
    "#            1       0.89      0.80      0.84        95\n",
    "\n",
    "#     accuracy                           1.00     56962\n",
    "#    macro avg       0.95      0.90      0.92     56962\n",
    "# weighted avg       1.00      1.00      1.00     56962\n",
    "\n",
    "# k = 238\n",
    "# 0.4996618268377735\n",
    "# 0.9986482216214319\n",
    "#               precision    recall  f1-score   support\n",
    "\n",
    "#            0       1.00      1.00      1.00     56885\n",
    "#            1       0.00      0.00      0.00        77\n",
    "\n",
    "#     accuracy                           1.00     56962\n",
    "#    macro avg       0.50      0.50      0.50     56962\n",
    "# weighted avg       1.00      1.00      1.00     56962\n",
    "\n",
    "#k = 20\n",
    "# 0.49952994719593735\n",
    "# 0.998121554720691\n",
    "#               precision    recall  f1-score   support\n",
    "\n",
    "#            0       1.00      1.00      1.00     56855\n",
    "#            1       0.00      0.00      0.00       107\n",
    "\n",
    "#     accuracy                           1.00     56962\n",
    "#    macro avg       0.50      0.50      0.50     56962\n",
    "# weighted avg       1.00      1.00      1.00     56962\n",
    "\n",
    "# k = 5\n",
    "# 0.9160799393015255\n",
    "# 0.9994557775359011\n",
    "#               precision    recall  f1-score   support\n",
    "\n",
    "#            0       1.00      1.00      1.00     56863\n",
    "#            1       0.90      0.78      0.83        99\n",
    "\n",
    "#     accuracy                           1.00     56962\n",
    "#    macro avg       0.95      0.89      0.92     56962\n",
    "# weighted avg       1.00      1.00      1.00     56962\n",
    "\n",
    "# k = 4\n",
    "# 0.9032596377318922\n",
    "# 0.999403110845827\n",
    "#               precision    recall  f1-score   support\n",
    "\n",
    "#            0       1.00      1.00      1.00     56863\n",
    "#            1       0.92      0.72      0.81        99\n",
    "\n",
    "#     accuracy                           1.00     56962\n",
    "#    macro avg       0.96      0.86      0.90     56962\n",
    "# weighted avg       1.00      1.00      1.00     56962"
   ]
  },
  {
   "cell_type": "code",
   "execution_count": null,
   "metadata": {},
   "outputs": [],
   "source": []
  }
 ],
 "metadata": {
  "kernelspec": {
   "display_name": "Python 3",
   "language": "python",
   "name": "python3"
  },
  "language_info": {
   "codemirror_mode": {
    "name": "ipython",
    "version": 3
   },
   "file_extension": ".py",
   "mimetype": "text/x-python",
   "name": "python",
   "nbconvert_exporter": "python",
   "pygments_lexer": "ipython3",
   "version": "3.8.4"
  }
 },
 "nbformat": 4,
 "nbformat_minor": 4
}
