{
 "cells": [
  {
   "cell_type": "code",
   "execution_count": 20,
   "metadata": {
    "id": "Mid38-hRTjBh"
   },
   "outputs": [],
   "source": [
    "# General Data Processing and Visualization Tools\n",
    "import pandas as pd\n",
    "import numpy as np\n",
    "import matplotlib.pyplot as plt\n",
    "import seaborn as sns\n",
    "from sklearn.metrics import classification_report\n",
    "from sklearn import preprocessing"
   ]
  },
  {
   "cell_type": "code",
   "execution_count": 21,
   "metadata": {
    "id": "OLSR0WzzWHoT"
   },
   "outputs": [],
   "source": [
    "# CNN model imports\n",
    "from keras.models import Sequential\n",
    "from keras.layers import Dense"
   ]
  },
  {
   "cell_type": "code",
   "execution_count": 4,
   "metadata": {
    "colab": {
     "base_uri": "https://localhost:8080/"
    },
    "id": "cE50riXXQcO9",
    "outputId": "9e9c4583-03d5-4660-e9fa-d1f794262fcb"
   },
   "outputs": [
    {
     "name": "stderr",
     "output_type": "stream",
     "text": [
      "C:\\Users\\ANDEE\\CMPE255\\anaconda3\\lib\\site-packages\\sklearn\\utils\\deprecation.py:143: FutureWarning: The sklearn.metrics.classification module is  deprecated in version 0.22 and will be removed in version 0.24. The corresponding classes / functions should instead be imported from sklearn.metrics. Anything that cannot be imported from sklearn.metrics is now part of the private API.\n",
      "  warnings.warn(message, FutureWarning)\n"
     ]
    }
   ],
   "source": [
    "# Visualization Tools\n",
    "from yellowbrick.classifier import ClassificationReport\n",
    "from sklearn.metrics import confusion_matrix\n",
    "from sklearn.metrics import ConfusionMatrixDisplay\n",
    "\n",
    "def make_vis(model_clf,train,val):\n",
    "  viz = ClassificationReport(model_clf, classes=['0', '1'], support = True)\n",
    "  viz.fit(train, np.ravel(label_train))\n",
    "  viz.score(val, np.ravel(label_val))\n",
    "  viz.poof()\n",
    "\n",
    "def make_cmatrix(predictions,clf_name):\n",
    "  cm = confusion_matrix(label_val, predictions)\n",
    "  cm_display = ConfusionMatrixDisplay(cm,display_labels=['Normal','Fraud'])\n",
    "  cm_display.plot(values_format='d')\n",
    "  plt.title(\"Confusion Matrix: \"+clf_name)\n",
    "  plt.grid(False)\n",
    "  plt.show()"
   ]
  },
  {
   "cell_type": "code",
   "execution_count": 5,
   "metadata": {
    "id": "UO6WLE9UTqbG"
   },
   "outputs": [],
   "source": [
    "data_raw = pd.read_csv('./archive/creditcard.csv', sep=\",\")"
   ]
  },
  {
   "cell_type": "code",
   "execution_count": 6,
   "metadata": {
    "id": "uZfyGBc3TwfA"
   },
   "outputs": [],
   "source": [
    "data_only = data_raw.drop([\"Class\"],axis=1)\n",
    "labels_only =.take([-1],axis=1)\n"
   ]
  },
  {
   "cell_type": "code",
   "execution_count": 9,
   "metadata": {},
   "outputs": [
    {
     "data": {
      "text/plain": [
       "<bound method NDFrame.head of         Class\n",
       "0           0\n",
       "1           0\n",
       "2           0\n",
       "3           0\n",
       "4           0\n",
       "...       ...\n",
       "284802      0\n",
       "284803      0\n",
       "284804      0\n",
       "284805      0\n",
       "284806      0\n",
       "\n",
       "[284807 rows x 1 columns]>"
      ]
     },
     "execution_count": 9,
     "metadata": {},
     "output_type": "execute_result"
    }
   ],
   "source": [
    "labels_only.head"
   ]
  },
  {
   "cell_type": "markdown",
   "metadata": {},
   "source": [
    "normalize columns of data df "
   ]
  },
  {
   "cell_type": "code",
   "execution_count": 22,
   "metadata": {},
   "outputs": [],
   "source": [
    "x = data_only.values \n",
    "min_max_scaler = preprocessing.MinMaxScaler()\n",
    "x_scaled = min_max_scaler.fit_transform(x)\n",
    "data_only_normalized= pd.DataFrame(x_scaled)"
   ]
  },
  {
   "cell_type": "code",
   "execution_count": 14,
   "metadata": {},
   "outputs": [],
   "source": [
    "labels_ohe=  pd.get_dummies(labels_only, columns=[\"Class\"], prefix=[\"Class\"] )"
   ]
  },
  {
   "cell_type": "code",
   "execution_count": 23,
   "metadata": {
    "id": "dF_wUlbeW2Lw"
   },
   "outputs": [],
   "source": [
    "from sklearn.model_selection import train_test_split\n",
    "x_train_raw, x_val_raw, y_train, y_val = train_test_split(data_only, labels_ohe,\\\n",
    "                                                                stratify=labels_ohe,\\\n",
    "                                                                test_size = 0.2,\\\n",
    "                                                               random_state = 255)"
   ]
  },
  {
   "cell_type": "markdown",
   "metadata": {
    "id": "F6wWgVlriI7l"
   },
   "source": [
    "## CNN Model "
   ]
  },
  {
   "cell_type": "markdown",
   "metadata": {},
   "source": [
    "Model 1 Dense layers "
   ]
  },
  {
   "cell_type": "code",
   "execution_count": 25,
   "metadata": {},
   "outputs": [],
   "source": [
    "def CNN1(x_train,y_train,x_test):\n",
    "    input_dim= x_train.shape[1]\n",
    "    model = Sequential()\n",
    "    model.add(Dense(256, input_dim=input_dim, activation='relu'))\n",
    "    model.add(Dense(16, activation='relu'))\n",
    "    model.add(Dense(2, activation='softmax'))\n",
    "    model.compile(loss='categorical_crossentropy', optimizer='adam', metrics='mean_squared_error')\n",
    "    model.fit(x_train,y_train, epochs=500, verbose=0)\n",
    "    y_test = model.predict(x_test)\n",
    "    return y_test"
   ]
  },
  {
   "cell_type": "markdown",
   "metadata": {},
   "source": [
    "convert ohe prediction to standard"
   ]
  },
  {
   "cell_type": "code",
   "execution_count": null,
   "metadata": {},
   "outputs": [],
   "source": [
    "y_pred = CNN1(x_train_raw,y_train, x_val_raw)"
   ]
  },
  {
   "cell_type": "code",
   "execution_count": null,
   "metadata": {},
   "outputs": [],
   "source": [
    "def rev_ohe(x):\n",
    "    y=np.ones(len(x)) \n",
    "    for i in range(len(x)):\n",
    "        row= x[i,:]\n",
    "        maxarr  = np.where(row == np.amax(row))\n",
    "        y[i]= maxarr[0]+1\n",
    "    return y"
   ]
  },
  {
   "cell_type": "code",
   "execution_count": null,
   "metadata": {},
   "outputs": [],
   "source": [
    "def CNN2(x_train,y_train,x_test):\n",
    "    input_dim= x_train.shape[1]\n",
    "    model = Sequential()\n",
    "    model.add(Dense(256, input_dim=input_dim, activation='relu'))\n",
    "    model.add(Dense(16, activation='relu'))\n",
    "    model.add(Dense(2, activation='softmax'))\n",
    "    model.compile(loss='categorical_crossentropy', optimizer='adam', metrics='accuracy')\n",
    "    model.fit(x_train,y_train, epochs=500, verbose=0)\n",
    "    y_test = model.predict(x_test)\n",
    "    return y_test"
   ]
  },
  {
   "cell_type": "code",
   "execution_count": null,
   "metadata": {},
   "outputs": [],
   "source": []
  },
  {
   "cell_type": "markdown",
   "metadata": {
    "id": "mSdcrfMPaue_"
   },
   "source": [
    "# Results"
   ]
  },
  {
   "cell_type": "markdown",
   "metadata": {
    "id": "5uA65eZvayyz"
   },
   "source": [
    "Best Results from Perceptron after Scaling, the method of scaling did not appear to make a major difference"
   ]
  },
  {
   "cell_type": "code",
   "execution_count": 25,
   "metadata": {
    "id": "dtnrBxX6axcD"
   },
   "outputs": [],
   "source": [
    "print(classification_report(np.ravel(label_val), prediction_d_s))"
   ]
  }
 ],
 "metadata": {
  "colab": {
   "name": " 255Project-Linear.ipynb",
   "provenance": [],
   "toc_visible": true
  },
  "kernelspec": {
   "display_name": "Python 3",
   "language": "python",
   "name": "python3"
  },
  "language_info": {
   "codemirror_mode": {
    "name": "ipython",
    "version": 3
   },
   "file_extension": ".py",
   "mimetype": "text/x-python",
   "name": "python",
   "nbconvert_exporter": "python",
   "pygments_lexer": "ipython3",
   "version": "3.8.5"
  }
 },
 "nbformat": 4,
 "nbformat_minor": 1
}
